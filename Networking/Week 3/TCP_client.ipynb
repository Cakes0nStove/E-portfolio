{
 "cells": [
  {
   "cell_type": "markdown",
   "metadata": {},
   "source": [
    "EXERCISE 1 - Use python datetime library to measure how long it took to \n",
    "send the data. To do so you need to import it"
   ]
  },
  {
   "cell_type": "code",
   "execution_count": 1,
   "metadata": {},
   "outputs": [
    {
     "name": "stdout",
     "output_type": "stream",
     "text": [
      "Server response: ACK: file_to_send.txt\n",
      "time taken: 372.800 microseconds\n"
     ]
    }
   ],
   "source": [
    "import socket\n",
    "import datetime\n",
    "import time \n",
    "# i am using time for a more accurate reading\n",
    "\n",
    "client_socket = socket.socket(socket.AF_INET, socket.SOCK_STREAM)\n",
    "client_socket.connect(('localhost', 65432))\n",
    "\n",
    "message = input(\"type here-->\")\n",
    "\n",
    "start_time = time.perf_counter()  \n",
    "\n",
    "client_socket.sendall(message.encode())\n",
    "\n",
    "response = client_socket.recv(1024)\n",
    "\n",
    "end_time = time.perf_counter()  \n",
    "\n",
    "elapsed_time = (end_time - start_time )* 1e6\n",
    "\n",
    "print(f\"Server response: {response.decode()}\")\n",
    "print(f\"time taken: {elapsed_time:.3f} microseconds\")\n",
    "\n",
    "client_socket.close()\n"
   ]
  },
  {
   "cell_type": "markdown",
   "metadata": {},
   "source": [
    "Server response: ACK: file_to_send.txt<br>\n",
    "time taken: 372.800 microseconds<br>"
   ]
  },
  {
   "cell_type": "markdown",
   "metadata": {},
   "source": [
    "EXERCISE 2: Change your script so that the data will be send using UDP \n",
    "and compare the time needed to send it using both protocols. "
   ]
  },
  {
   "cell_type": "code",
   "execution_count": 4,
   "metadata": {},
   "outputs": [
    {
     "name": "stdout",
     "output_type": "stream",
     "text": [
      "UDP Server response: ACK: hellooooooooo\n",
      "time taken to send and receive response: 901.900 microseconds\n"
     ]
    }
   ],
   "source": [
    "import socket\n",
    "import time\n",
    "SERVER_HOST = 'localhost'\n",
    "UDP_PORT = 65433\n",
    "\n",
    "message = input(\"type here-->\")\n",
    "\n",
    "client_socket = socket.socket(socket.AF_INET, socket.SOCK_DGRAM)\n",
    "\n",
    "start_time = time.perf_counter()  \n",
    "\n",
    "client_socket.sendto(message.encode(), ('localhost', 65433))\n",
    "\n",
    "response, _ = client_socket.recvfrom(1024)\n",
    "\n",
    "end_time = time.perf_counter()  \n",
    "\n",
    "elapsed_time = (end_time - start_time ) * 1e6\n",
    "\n",
    "\n",
    "print(f\"UDP Server response: {response.decode()}\")\n",
    "print(f\"time taken to send and receive response: {elapsed_time:.3f} microseconds\")\n",
    "\n",
    "client_socket.close()\n"
   ]
  },
  {
   "cell_type": "markdown",
   "metadata": {},
   "source": [
    "UDP Server response: ACK: hellooooooooo<br>\n",
    "time taken to send and receive response: 901.900 microseconds<br>"
   ]
  },
  {
   "cell_type": "markdown",
   "metadata": {},
   "source": [
    "EXERCISE 3 - sending text files and comparing the time they are sent based off of size of file<br>\n",
    "Small file - Contained my name<br>\n",
    "Large file - Contained the first chapters of Frankenstein<br>"
   ]
  },
  {
   "cell_type": "code",
   "execution_count": null,
   "metadata": {},
   "outputs": [],
   "source": [
    "import socket\n",
    "import datetime\n",
    "import time\n",
    "\n",
    "client_socket = socket.socket(socket.AF_INET, socket.SOCK_STREAM)\n",
    "client_socket.connect(('localhost', 65432))\n",
    "\n",
    "file_name = \"file_to_send.txt\"  \n",
    "\n",
    "try:\n",
    "    with open(file_name, 'rb') as f:\n",
    "        print(f\"sending file '{file_name}' to server...\")\n",
    "\n",
    "        file_start_time = time.perf_counter()  \n",
    "\n",
    "        while (chunk := f.read(1024)): \n",
    "            client_socket.sendall(chunk)\n",
    "\n",
    "    client_socket.shutdown(socket.SHUT_WR)\n",
    "\n",
    "    response = client_socket.recv(1024)\n",
    "\n",
    "    file_end_time = time.perf_counter()  \n",
    "    file_transfer_time = (file_end_time - file_start_time) * 1e6\n",
    "\n",
    "    print(f\"server response: {response.decode()}\")\n",
    "    print(f\"time taken to send the file: {file_transfer_time:.3f}  microseconds\")\n",
    "\n",
    "except FileNotFoundError:\n",
    "    print(f\"File '{file_name}' not found.\")\n",
    "\n",
    "client_socket.close()\n",
    "print(\"Connection closed.\")\n",
    "\n"
   ]
  },
  {
   "cell_type": "markdown",
   "metadata": {},
   "source": [
    "for the small.txt = 468.600 microseconds\n",
    "for large.txt = 2661.200 microseconds"
   ]
  },
  {
   "cell_type": "markdown",
   "metadata": {},
   "source": [
    "EXERCISE 4 - TXT FILE TRANSFER USING UDP"
   ]
  },
  {
   "cell_type": "code",
   "execution_count": null,
   "metadata": {},
   "outputs": [
    {
     "name": "stdout",
     "output_type": "stream",
     "text": [
      "sending file 'file_to_send.txt' to server...\n"
     ]
    }
   ],
   "source": [
    "import socket\n",
    "import time\n",
    "\n",
    "SERVER_HOST = 'localhost'\n",
    "UDP_PORT = 65432\n",
    "file_name = \"file_to_send.txt\"  \n",
    "client_socket = socket.socket(socket.AF_INET, socket.SOCK_DGRAM)\n",
    "\n",
    "try:\n",
    "    print(f\"sending file '{file_name}' to server...\")\n",
    "\n",
    "    client_socket.sendto(file_name.encode(), (SERVER_HOST, UDP_PORT))\n",
    "\n",
    "    file_start_time = time.perf_counter()\n",
    "\n",
    "    with open(file_name, 'rb') as f:\n",
    "        while (chunk := f.read(1024)): \n",
    "            client_socket.sendto(chunk, (SERVER_HOST, UDP_PORT))\n",
    "\n",
    "    client_socket.sendto(b\"EOF\", (SERVER_HOST, UDP_PORT))\n",
    "\n",
    "    response, _ = client_socket.recvfrom(1024)\n",
    "\n",
    "    file_end_time = time.perf_counter()\n",
    "    file_transfer_time = (file_end_time - file_start_time) * 1e6 \n",
    "\n",
    "    print(f\"server response: {response.decode()}\")\n",
    "    print(f\"time taken to send the file: {file_transfer_time:.3f} microseconds\")\n",
    "\n",
    "except FileNotFoundError:\n",
    "    print(f\"File '{file_name}' not found.\")\n",
    "\n",
    "client_socket.close()\n",
    "print(\"UDP Connection closed.\")\n"
   ]
  },
  {
   "cell_type": "markdown",
   "metadata": {},
   "source": [
    "Time taken to send the  large.txt file using UDP: 67590.700 microseconds<br>\n",
    "Time taken to send the small.txt file using UDP : 2222.000 microseconds<br>\n",
    "\n"
   ]
  },
  {
   "cell_type": "markdown",
   "metadata": {},
   "source": [
    "EXCERISE 1,2,3,4"
   ]
  },
  {
   "cell_type": "code",
   "execution_count": null,
   "metadata": {},
   "outputs": [],
   "source": [
    "import socket\n",
    "import threading\n",
    "import datetime\n",
    "\n",
    "def client_task(client_id, mode, filename=None):\n",
    "    client_socket = socket.socket(socket.AF_INET, socket.SOCK_STREAM)\n",
    "    client_socket.connect(('localhost', 65432))\n",
    "\n",
    "    greeting = client_socket.recv(1024).decode()\n",
    "    print(f\"[{datetime.datetime.now()}] client {client_id} received: {greeting}\")\n",
    "\n",
    "    if mode == \"CHAT\":\n",
    "        client_socket.sendall(b\"CHAT\")\n",
    "\n",
    "        message = f\"client {client_id}: wassup server\"\n",
    "        print(f\"[{datetime.datetime.now()}] client {client_id} sending message: {message}\")\n",
    "\n",
    "        client_socket.sendall(message.encode())\n",
    "\n",
    "        response = client_socket.recv(1024)\n",
    "        print(f\"[{datetime.datetime.now()}] client {client_id} received: {response.decode()}\")\n",
    "\n",
    "    elif mode == \"FILE\":\n",
    "        client_socket.sendall(b\"FILE\")\n",
    "\n",
    "        if filename:\n",
    "            try:\n",
    "                client_socket.sendall(filename.encode())\n",
    "\n",
    "                with open(filename, 'rb') as f:\n",
    "                    while (chunk := f.read(1024)):\n",
    "                        client_socket.sendall(chunk)\n",
    "\n",
    "                print(f\"[{datetime.datetime.now()}] client {client_id} sent file '{filename}'\")\n",
    "\n",
    "                response = client_socket.recv(1024)\n",
    "                print(f\"[{datetime.datetime.now()}] client {client_id} received: {response.decode()}\")\n",
    "\n",
    "            except FileNotFoundError:\n",
    "                print(f\"Client {client_id}: not found\")\n",
    "\n",
    "    client_socket.close()\n",
    "\n",
    "num_clients = 2\n",
    "option = input(\" 1 to send messages, 2 for send a file: \")\n",
    "\n",
    "client_threads = []\n",
    "\n",
    "if option == \"1\":\n",
    "    for i in range(num_clients):\n",
    "        thread = threading.Thread(target=client_task, args=(i, \"CHAT\"))\n",
    "        thread.start()\n",
    "        client_threads.append(thread)\n",
    "\n",
    "elif option == \"2\":\n",
    "    filename = input(\"filename: \")\n",
    "\n",
    "    for i in range(num_clients):\n",
    "        thread = threading.Thread(target=client_task, args=(i, \"FILE\", filename))\n",
    "        thread.start()\n",
    "        client_threads.append(thread)\n",
    "for thread in client_threads:\n",
    "    thread.join()\n",
    "\n"
   ]
  },
  {
   "cell_type": "markdown",
   "metadata": {},
   "source": [
    "EXERCISE 5 - Multiple Clients that want to talk\n",
    "\n",
    "paste the client code into a new window + press empty space bar to load pending chats"
   ]
  },
  {
   "cell_type": "code",
   "execution_count": 1,
   "metadata": {},
   "outputs": [
    {
     "name": "stdout",
     "output_type": "stream",
     "text": [
      "Connected to chat server! Type messages below (type 'exit' to quit).\n",
      "\n",
      "Client 1: heyyoo\n",
      "\n",
      "Client 2: hey im the 3rd client\n",
      "\n",
      "Client 2: heyy\n",
      "\n",
      "Client 1: heyo\n"
     ]
    },
    {
     "name": "stderr",
     "output_type": "stream",
     "text": [
      "Exception in thread Thread-3 (receive_messages):\n",
      "Traceback (most recent call last):\n",
      "  File \"C:\\Program Files\\WindowsApps\\PythonSoftwareFoundation.Python.3.12_3.12.2544.0_x64__qbz5n2kfra8p0\\Lib\\threading.py\", line 1075, in _bootstrap_inner\n",
      "    self.run()\n",
      "  File \"C:\\Users\\Alexis\\AppData\\Local\\Packages\\PythonSoftwareFoundation.Python.3.12_qbz5n2kfra8p0\\LocalCache\\local-packages\\Python312\\site-packages\\ipykernel\\ipkernel.py\", line 766, in run_closure\n"
     ]
    },
    {
     "name": "stderr",
     "output_type": "stream",
     "text": [
      "    _threading_Thread_run(self)\n",
      "  File \"C:\\Program Files\\WindowsApps\\PythonSoftwareFoundation.Python.3.12_3.12.2544.0_x64__qbz5n2kfra8p0\\Lib\\threading.py\", line 1012, in run\n",
      "    self._target(*self._args, **self._kwargs)\n",
      "  File \"C:\\Users\\Alexis\\AppData\\Local\\Temp\\ipykernel_21036\\2950043864.py\", line 12, in receive_messages\n",
      "ConnectionAbortedError: [WinError 10053] An established connection was aborted by the software in your host machine\n"
     ]
    }
   ],
   "source": [
    "\n",
    "import socket\n",
    "import threading\n",
    "\n",
    "client_socket = socket.socket(socket.AF_INET, socket.SOCK_STREAM)\n",
    "client_socket.connect(('localhost', 65432))\n",
    "\n",
    "print(\"Connected to chat server! Type messages below (type 'exit' to quit).\")\n",
    "\n",
    "def receive_messages():\n",
    "    while True:\n",
    "        try:\n",
    "            message = client_socket.recv(1024).decode()\n",
    "            if not message:\n",
    "                break\n",
    "            print(\"\\n\" + message)  \n",
    "        except ConnectionResetError:\n",
    "            print(\"Server disconnected\")\n",
    "            break\n",
    "\n",
    "receive_thread = threading.Thread(target=receive_messages)\n",
    "receive_thread.start()\n",
    "\n",
    "while True:\n",
    "    msg = input()\n",
    "    if msg.lower() == \"exit\":\n",
    "        break\n",
    "    client_socket.sendall(msg.encode())\n",
    "\n",
    "client_socket.close()"
   ]
  },
  {
   "cell_type": "markdown",
   "metadata": {},
   "source": [
    "![title](Images/Results_8.png)"
   ]
  },
  {
   "cell_type": "markdown",
   "metadata": {},
   "source": [
    "EXERCISE 6 - tcp client for only two client that want to talk, ensure code is opened in seperate window"
   ]
  },
  {
   "cell_type": "code",
   "execution_count": null,
   "metadata": {},
   "outputs": [],
   "source": [
    "\n",
    "import socket\n",
    "import threading\n",
    "\n",
    "client_socket = socket.socket(socket.AF_INET, socket.SOCK_STREAM)\n",
    "client_socket.connect(('localhost', 65432))\n",
    "\n",
    "print(\"Connected to chat server! Type messages below (type 'exit' to quit).\")\n",
    "\n",
    "\n",
    "def receive_messages():\n",
    "    while True:\n",
    "        try:\n",
    "            message = client_socket.recv(1024).decode()\n",
    "            if not message:\n",
    "                break\n",
    "            print(\"\\n\" + message)  \n",
    "        except ConnectionResetError:\n",
    "            print(\"Server disconnected\")\n",
    "            break\n",
    "\n",
    "receive_thread = threading.Thread(target=receive_messages)\n",
    "receive_thread.start()\n",
    "\n",
    "while True:\n",
    "    msg = input()\n",
    "    if msg.lower() == \"exit\":\n",
    "        break\n",
    "    client_socket.sendall(msg.encode())\n",
    "\n",
    "client_socket.close()\n",
    "\n"
   ]
  },
  {
   "cell_type": "markdown",
   "metadata": {},
   "source": [
    "EXERCISE 7 AND 8 "
   ]
  },
  {
   "cell_type": "code",
   "execution_count": null,
   "metadata": {},
   "outputs": [],
   "source": [
    "import socket\n",
    "import requests\n",
    "from cryptography.fernet import Fernet\n",
    "api_url = \"https://api.open-meteo.com/v1/forecast?latitude=51.47&longitude=-0.0363&current_weather=true\"\n",
    "\n",
    "client_socket = socket.socket(socket.AF_INET, socket.SOCK_STREAM)\n",
    "client_socket.connect(('localhost', 65432))\n",
    "\n",
    "key_length = int.from_bytes(client_socket.recv(4), 'big') \n",
    "key = client_socket.recv(key_length)\n",
    "cipher = Fernet(key)\n",
    "\n",
    "message = \"hey server\"\n",
    "response = requests.get(api_url)\n",
    "weather_data = response.json()\n",
    "weather_output = f\"temp:{weather_data['current_weather']['temperature']},Wind Speed: {weather_data['current_weather']['windspeed']} km/h\"\n",
    "print(f\"Fetched Weather: {weather_output}\")\n",
    "\n",
    "entire_message = f\"{message} | {weather_output}\"\n",
    "\n",
    "encrypted_message = cipher.encrypt(entire_message.encode())\n",
    "print(f\"Encrypted Message Sent: {encrypted_message}\")\n",
    "\n",
    "client_socket.sendall(encrypted_message)\n",
    "\n",
    "encrypted_response = client_socket.recv(1024)\n",
    "decrypted_response = cipher.decrypt(encrypted_response).decode()\n",
    "\n",
    "print(f\"Server decrypted: {decrypted_response}\")\n",
    "\n",
    "client_socket.close()\n"
   ]
  }
 ],
 "metadata": {
  "kernelspec": {
   "display_name": "Python 3",
   "language": "python",
   "name": "python3"
  },
  "language_info": {
   "codemirror_mode": {
    "name": "ipython",
    "version": 3
   },
   "file_extension": ".py",
   "mimetype": "text/x-python",
   "name": "python",
   "nbconvert_exporter": "python",
   "pygments_lexer": "ipython3",
   "version": "3.12.9"
  }
 },
 "nbformat": 4,
 "nbformat_minor": 2
}
