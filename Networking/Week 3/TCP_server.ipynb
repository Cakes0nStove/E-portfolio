{
 "cells": [
  {
   "cell_type": "markdown",
   "metadata": {},
   "source": [
    "EXERCISE 1 - Use python datetime library to measure how long it took to \n",
    "send the data. To do so you need to import it"
   ]
  },
  {
   "cell_type": "code",
   "execution_count": null,
   "metadata": {},
   "outputs": [
    {
     "name": "stdout",
     "output_type": "stream",
     "text": [
      "TCP Server is listening...\n",
      "Connected to ('127.0.0.1', 58877)\n",
      "Received: file_to_send.txt\n"
     ]
    }
   ],
   "source": [
    "import socket \n",
    "\n",
    "server_socket = socket.socket(socket.AF_INET, socket.SOCK_STREAM) \n",
    "server_socket.bind(('localhost', 65432)) \n",
    "server_socket.listen(1) \n",
    "print(\"TCP Server is listening...\") \n",
    "\n",
    "\n",
    "while True: \n",
    "    client_socket, client_address = server_socket.accept() \n",
    "    print(f\"Connected to {client_address}\") \n",
    "    data = client_socket.recv(1024) \n",
    "    print(f\"Received: {data.decode()}\") \n",
    "    client_socket.sendall(b\"ACK: \" + data) \n",
    "    client_socket.close() "
   ]
  },
  {
   "cell_type": "markdown",
   "metadata": {},
   "source": [
    "EXERCISE 2: Change your script so that the data will be send using UDP \n",
    "and compare the time needed to send it using both protocols. "
   ]
  },
  {
   "cell_type": "code",
   "execution_count": null,
   "metadata": {},
   "outputs": [
    {
     "name": "stdout",
     "output_type": "stream",
     "text": [
      "UDP Server is listening...\n",
      "received from ('127.0.0.1', 49717): hellooooooooo\n"
     ]
    }
   ],
   "source": [
    "import socket\n",
    "\n",
    "\n",
    "server_socket = socket.socket(socket.AF_INET, socket.SOCK_DGRAM)\n",
    "server_socket.bind(('localhost', 65433))\n",
    "\n",
    "print(\"UDP Server is listening...\")\n",
    "\n",
    "while True:\n",
    "    data, client_address = server_socket.recvfrom(1024)\n",
    "    print(f\"received from {client_address}: {data.decode()}\")\n",
    "\n",
    "    server_socket.sendto(b\"ACK: \" + data, client_address)\n"
   ]
  },
  {
   "cell_type": "markdown",
   "metadata": {},
   "source": [
    "UDP Server is listening...<br>\n",
    "received from ('127.0.0.1', 49717): hellooooooooo<br>"
   ]
  },
  {
   "cell_type": "markdown",
   "metadata": {},
   "source": [
    "EXERCISE 3- SENDING TEXT FILE AND COMPARING TIME SEND BASED OFF OF SIZE OF FILE "
   ]
  },
  {
   "cell_type": "code",
   "execution_count": null,
   "metadata": {},
   "outputs": [],
   "source": [
    "import socket\n",
    "\n",
    "server_socket = socket.socket(socket.AF_INET, socket.SOCK_STREAM)\n",
    "server_socket.bind(('localhost', 65432))\n",
    "server_socket.listen(1)\n",
    "\n",
    "print(\"📡 TCP Server is listening for file transfers...\")\n",
    "\n",
    "while True:\n",
    "    client_socket, client_address = server_socket.accept()\n",
    "    print(f\"Connected to {client_address}\")\n",
    "\n",
    "    with open('received_file.txt', 'wb') as f:\n",
    "        while True:\n",
    "            data = client_socket.recv(1024)\n",
    "            if not data:  \n",
    "                break\n",
    "            f.write(data)\n",
    "\n",
    "    print(\"file received  and saved as 'received_file.txt\")\n",
    "\n",
    "    client_socket.sendall(b\"file received\")\n",
    "\n",
    "    client_socket.close()\n",
    "\n"
   ]
  },
  {
   "cell_type": "markdown",
   "metadata": {},
   "source": [
    "EXERCISE 4 - TXT FILE TRANSFER USING UDP"
   ]
  },
  {
   "cell_type": "code",
   "execution_count": 1,
   "metadata": {},
   "outputs": [
    {
     "name": "stdout",
     "output_type": "stream",
     "text": [
      "UDP Server is listening for file transfers...\n",
      "receiving file: file_to_send.txt from ('127.0.0.1', 50357)\n",
      "file received successfully and saved as 'received_file.txt'!\n"
     ]
    },
    {
     "data": {
      "text/plain": [
       "27"
      ]
     },
     "execution_count": 1,
     "metadata": {},
     "output_type": "execute_result"
    }
   ],
   "source": [
    "import socket\n",
    "\n",
    "SERVER_HOST = 'localhost'\n",
    "UDP_PORT = 65432  \n",
    "\n",
    "server_socket = socket.socket(socket.AF_INET, socket.SOCK_DGRAM)\n",
    "server_socket.bind((SERVER_HOST, UDP_PORT))  \n",
    "\n",
    "print(\"UDP Server is listening for file transfers...\")\n",
    "\n",
    "filename, client_address = server_socket.recvfrom(1024)\n",
    "filename = filename.decode().strip()\n",
    "print(f\"receiving file: {filename} from {client_address}\")\n",
    "\n",
    "\n",
    "with open('received_file.txt', 'wb') as f:\n",
    "    while True:\n",
    "        data, _ = server_socket.recvfrom(1024)\n",
    "        if data == b\"EOF\":  \n",
    "            break\n",
    "        f.write(data)\n",
    "\n",
    "print(\"file received successfully and saved as 'received_file.txt'!\")\n",
    "\n",
    "server_socket.sendto(b\"File received successfully.\", client_address)\n"
   ]
  },
  {
   "cell_type": "markdown",
   "metadata": {},
   "source": [
    "EXCERISE 1,2,3,4"
   ]
  },
  {
   "cell_type": "code",
   "execution_count": null,
   "metadata": {},
   "outputs": [],
   "source": [
    "import socket\n",
    "import threading\n",
    "import datetime\n",
    "\n",
    "server_socket = socket.socket(socket.AF_INET, socket.SOCK_STREAM)\n",
    "server_socket.bind(('localhost', 65432))\n",
    "server_socket.listen(2)  \n",
    "\n",
    "print(\"TCP Server is listening...\")\n",
    "\n",
    "def handle_client(client_socket, client_address):\n",
    "    print(f\"[{datetime.datetime.now()}] Connected to {client_address}\")\n",
    "\n",
    "    try:\n",
    "        client_socket.sendall(b\"Hello Client!\")\n",
    "\n",
    "        while True:\n",
    "            mode = client_socket.recv(1024).decode().strip()\n",
    "            if not mode:\n",
    "                break\n",
    "\n",
    "            if mode == \"CHAT\":\n",
    "                message = client_socket.recv(1024).decode().strip()\n",
    "                if not message:\n",
    "                    break\n",
    "                print(f\"[{datetime.datetime.now()}]  from {client_address}: {message}\")\n",
    "\n",
    "                response = f\"ACK: {message}\"\n",
    "                client_socket.sendall(response.encode())\n",
    "\n",
    "            elif mode == \"FILE\":\n",
    "                filename = client_socket.recv(1024).decode().strip()\n",
    "                if not filename:\n",
    "                    break\n",
    "                print(f\"[{datetime.datetime.now()}]  file: {filename} from {client_address}\")\n",
    "\n",
    "                # Save file with a unique name\n",
    "                save_path = f\"received_from_{client_address[1]}_{filename}\"\n",
    "                with open(save_path, 'wb') as f:\n",
    "                    while True:\n",
    "                        file_data = client_socket.recv(1024)\n",
    "                        if not file_data:\n",
    "                            break\n",
    "                        f.write(file_data)\n",
    "\n",
    "                print(f\"[{datetime.datetime.now()}] {filename} received from {client_address} and saved as {save_path}\")\n",
    "                client_socket.sendall(f\"{filename} received \".encode())\n",
    "\n",
    "    except ConnectionResetError:\n",
    "        print(f\"[{datetime.datetime.now()}] disconnected with: {client_address}\")\n",
    "\n",
    "    client_socket.close()\n",
    "\n",
    "while True:\n",
    "    client_socket, client_address = server_socket.accept()\n",
    "    client_thread = threading.Thread(target=handle_client, args=(client_socket, client_address))\n",
    "    client_thread.start()\n",
    "\n",
    "\n",
    "    "
   ]
  },
  {
   "cell_type": "markdown",
   "metadata": {},
   "source": [
    "EXERCISE 5 - SERVER SIDE"
   ]
  },
  {
   "cell_type": "code",
   "execution_count": null,
   "metadata": {},
   "outputs": [
    {
     "name": "stdout",
     "output_type": "stream",
     "text": [
      "waiting for my clients to connect...\n",
      "Client 0 connected from ('127.0.0.1', 59367)\n",
      "Client 1 connected from ('127.0.0.1', 59368)\n",
      "Client 0 says: heloo\n",
      "Client 1 says: heyyoo\n",
      "Client 2 connected from ('127.0.0.1', 59458)\n",
      "Client 2 says: hey im the 3rd client\n",
      "Client 2 says: heyy\n",
      "Client 1 says: heyo\n",
      "Client 0 disconnected \n"
     ]
    }
   ],
   "source": [
    "import socket\n",
    "import threading\n",
    "\n",
    "server_socket = socket.socket(socket.AF_INET, socket.SOCK_STREAM)\n",
    "server_socket.bind(('localhost', 65432))\n",
    "server_socket.listen(4)  \n",
    "\n",
    "print(\"waiting for my clients to connect...\")\n",
    "\n",
    "clients = []\n",
    "lock = threading.Lock() \n",
    "\n",
    "\n",
    "def handle_client(client_socket, client_id):\n",
    "\n",
    "    while True:\n",
    "        try:\n",
    "            message = client_socket.recv(1024).decode()\n",
    "            if not message or message.lower() == \"exit\":\n",
    "                print(f\"Client {client_id} disconnected\")\n",
    "                break\n",
    "\n",
    "            print(f\"Client {client_id} says: {message}\")\n",
    "\n",
    "            with lock:\n",
    "                for i, client in enumerate(clients):\n",
    "                    if i !=client_id:\n",
    "                        try:\n",
    "                            client.sendall(f\"Client {client_id}: {message}\".encode())\n",
    "                        except:\n",
    "                            print(f\"Failed to send message to Client {i}\")\n",
    "\n",
    "\n",
    "        except (ConnectionResetError, BrokenPipeError):\n",
    "            print(f\"Client {client_id} disconnected \")\n",
    "            break\n",
    "\n",
    "    client_socket.close()\n",
    "    with lock:\n",
    "        clients[client_id] = None \n",
    "\n",
    "for i in range(4):\n",
    "    client_socket, client_address = server_socket.accept()\n",
    "    with lock:\n",
    "        clients.append(client_socket)\n",
    "    print(f\"Client {i} connected from {client_address}\")\n",
    "\n",
    "    thread = threading.Thread(target=handle_client, args=(client_socket, i))\n",
    "    thread.start()\n",
    "\n",
    "server_socket.close()"
   ]
  },
  {
   "cell_type": "markdown",
   "metadata": {},
   "source": [
    "EXERCISE 6 - TCP SERVER FOR TWO CLIENTS THAT WANT TO TALK - EXERCISE 6, the server code ensures that client 0 recieves only client 1 message, and vice versa, more personal between the two."
   ]
  },
  {
   "cell_type": "code",
   "execution_count": null,
   "metadata": {},
   "outputs": [],
   "source": [
    "\n",
    "import socket\n",
    "import threading\n",
    "\n",
    "\n",
    "server_socket = socket.socket(socket.AF_INET, socket.SOCK_STREAM)\n",
    "server_socket.bind(('localhost', 65432))\n",
    "server_socket.listen(2)  \n",
    "\n",
    "print(\"Waiting for 2 clients to connect...\")\n",
    "\n",
    "clients = []\n",
    "\n",
    "def handle_client(client_socket, client_id):\n",
    "    other_client_id = 1 if client_id == 0 else 0  #\n",
    "\n",
    "    while True:\n",
    "        try:\n",
    "            message = client_socket.recv(1024).decode()\n",
    "            if not message or message.lower() == \"exit\":\n",
    "                print(f\"Client {client_id} disconnected\")\n",
    "                break\n",
    "\n",
    "            print(f\"Client {client_id} says: {message}\")\n",
    "            clients[other_client_id].sendall(f\"Client {client_id}: {message}\".encode())\n",
    "\n",
    "        except (ConnectionResetError, BrokenPipeError):\n",
    "            print(f\"Client {client_id} disconnected \")\n",
    "            break\n",
    "\n",
    "    client_socket.close()\n",
    "\n",
    "while len(clients) < 2:\n",
    "    client_socket, client_address = server_socket.accept()\n",
    "    clients.append(client_socket)\n",
    "    print(f\"Client {len(clients)-1} connected from {client_address}\")\n",
    "\n",
    "thread1 = threading.Thread(target=handle_client, args=(clients[0], 0))\n",
    "thread2 = threading.Thread(target=handle_client, args=(clients[1], 1))\n",
    "thread1.start()\n",
    "thread2.start()\n",
    "\n",
    "thread1.join()\n",
    "thread2.join()\n",
    "\n",
    "server_socket.close()\n"
   ]
  },
  {
   "cell_type": "markdown",
   "metadata": {},
   "source": [
    "EXERCISE 7 AND 8 "
   ]
  },
  {
   "cell_type": "code",
   "execution_count": null,
   "metadata": {},
   "outputs": [],
   "source": [
    "import socket\n",
    "from cryptography.fernet import Fernet\n",
    "\n",
    "key = Fernet.generate_key()\n",
    "cipher = Fernet(key)\n",
    "\n",
    "server_socket = socket.socket(socket.AF_INET, socket.SOCK_STREAM)\n",
    "server_socket.bind(('localhost', 65432))\n",
    "server_socket.listen(1)\n",
    "\n",
    "print(\"TCP Server is listening...\")\n",
    "\n",
    "while True:\n",
    "    client_socket, client_address = server_socket.accept()\n",
    "    print(f\"Connected to {client_address}\")\n",
    "\n",
    "    client_socket.sendall(len(key).to_bytes(4, 'big'))\n",
    "    client_socket.sendall(key) \n",
    "\n",
    "    encrypted_data = client_socket.recv(1024)\n",
    "    if not encrypted_data:\n",
    "        print(\"nothing\")\n",
    "        continue\n",
    "\n",
    "    decrypted_message = cipher.decrypt(encrypted_data).decode()\n",
    "    print(f\"decrypted: {decrypted_message}\")\n",
    "\n",
    "    encrypted_response = cipher.encrypt(f\"ACK: {decrypted_message}\".encode())\n",
    "    client_socket.sendall(encrypted_response)\n",
    "\n",
    "    client_socket.close()\n"
   ]
  }
 ],
 "metadata": {
  "kernelspec": {
   "display_name": "Python 3",
   "language": "python",
   "name": "python3"
  },
  "language_info": {
   "codemirror_mode": {
    "name": "ipython",
    "version": 3
   },
   "file_extension": ".py",
   "mimetype": "text/x-python",
   "name": "python",
   "nbconvert_exporter": "python",
   "pygments_lexer": "ipython3",
   "version": "3.12.9"
  }
 },
 "nbformat": 4,
 "nbformat_minor": 2
}
