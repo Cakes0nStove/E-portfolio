{
 "cells": [
  {
   "cell_type": "code",
   "execution_count": null,
   "metadata": {},
   "outputs": [
    {
     "name": "stdout",
     "output_type": "stream",
     "text": [
      "Connected to chat server! Type messages below (type 'exit' to quit).\n",
      "\n",
      "Client 0: hellohello\n"
     ]
    }
   ],
   "source": [
    "# TCP CLIENT FOR TWO CLIENTS THAT WANT TO TALK - EXERCISE 6\n",
    "\n",
    "import socket\n",
    "import threading\n",
    "from cryptography.fernet import Fernet\n",
    "\n",
    "client_socket = socket.socket(socket.AF_INET, socket.SOCK_STREAM)\n",
    "client_socket.connect(('localhost', 65432))\n",
    "\n",
    "print(\"Connected to chat server! Type messages below (type 'exit' to quit).\")\n",
    "\n",
    "def receive_messages():\n",
    "    while True:\n",
    "        try:\n",
    "            message = client_socket.recv(1024).decode()\n",
    "            if not message:\n",
    "                break\n",
    "            print(\"\\n\" + message)  \n",
    "        except ConnectionResetError:\n",
    "            print(\"Server disconnected\")\n",
    "            break\n",
    "\n",
    "receive_thread = threading.Thread(target=receive_messages)\n",
    "receive_thread.start()\n",
    "\n",
    "while True:\n",
    "    msg = input()\n",
    "    if msg.lower() == \"exit\":\n",
    "        break\n",
    "    client_socket.sendall(msg.encode())\n",
    "\n",
    "client_socket.close()\n",
    "\n",
    "\n"
   ]
  }
 ],
 "metadata": {
  "kernelspec": {
   "display_name": "Python 3",
   "language": "python",
   "name": "python3"
  },
  "language_info": {
   "codemirror_mode": {
    "name": "ipython",
    "version": 3
   },
   "file_extension": ".py",
   "mimetype": "text/x-python",
   "name": "python",
   "nbconvert_exporter": "python",
   "pygments_lexer": "ipython3",
   "version": "3.12.9"
  }
 },
 "nbformat": 4,
 "nbformat_minor": 2
}
