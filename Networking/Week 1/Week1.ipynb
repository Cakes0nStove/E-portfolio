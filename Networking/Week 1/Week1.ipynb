{
 "cells": [
  {
   "cell_type": "code",
   "execution_count": null,
   "metadata": {},
   "outputs": [],
   "source": [
    "import socket\n",
    "def get_ip_address(website_url):\n",
    "    try:\n",
    "        ip_address = socket.gethostbyname(website_url)\n",
    "        print(f\"The IP address of {website_url} is {ip_address}\")\n",
    "    except socket.gaierror:\n",
    "        print(f\"Unable to get the IP address for {website_url}\")\n",
    "# Example usage\n",
    "website = input(\"Enter the website URL (without 'https://'): \")\n",
    "get_ip_address(website)"
   ]
  },
  {
   "cell_type": "markdown",
   "metadata": {},
   "source": [
    "![Alt Text](Images/Week1a.jpg)"
   ]
  },
  {
   "cell_type": "markdown",
   "metadata": {},
   "source": [
    "1) The IP address of www.gold.ac.uk is 159.100.136.66\n",
    "2) The IP address of www.google.com is 172.217.16.228\n",
    "3) The IP address of www.youtube.com is 142.250.187.238"
   ]
  },
  {
   "cell_type": "code",
   "execution_count": null,
   "metadata": {},
   "outputs": [],
   "source": [
    "import subprocess\n",
    "def tracert(domain):\n",
    "    try:\n",
    "        result = subprocess.run([\"tracert\", domain], capture_output=True, text=True)\n",
    "        print(result.stdout)\n",
    "    except FileNotFoundError:\n",
    "        print(\"tracert command not found. Make sure it's available.\")\n",
    "    except Exception as e: # Catching general exceptions for now\n",
    "        print(f\"An error occurred: {e}\")\n",
    "domain = input(\"Enter the website or IP address: \")\n",
    "tracert(domain)"
   ]
  },
  {
   "cell_type": "markdown",
   "metadata": {},
   "source": [
    "![alt text](Images/Results1.png)"
   ]
  },
  {
   "cell_type": "markdown",
   "metadata": {},
   "source": [
    "![alt text](Images/Results2.png)"
   ]
  },
  {
   "cell_type": "markdown",
   "metadata": {},
   "source": [
    "![alternatvie text](Images/results4.jpg)"
   ]
  },
  {
   "cell_type": "code",
   "execution_count": null,
   "metadata": {},
   "outputs": [],
   "source": [
    "import socket\n",
    "\n",
    "client_socket = socket.socket(socket.AF_INET, socket.SOCK_STREAM)\n",
    "\n",
    "server_address = ('www.gold.ac.uk', 80)\n",
    "\n",
    "client_socket.connect(server_address)\n",
    "\n",
    "request = \"GET / HTTP/1.1\\r\\nHost: www.gold.ac.uk\\r\\n\\r\\n\"\n",
    "client_socket.send(request.encode())\n",
    "\n",
    "response = client_socket.recv(4096)\n",
    "print(response.decode())\n",
    "\n",
    "client_socket.close()"
   ]
  },
  {
   "cell_type": "markdown",
   "metadata": {},
   "source": [
    "![alternatvie text](Images/results3.jpg)"
   ]
  },
  {
   "cell_type": "code",
   "execution_count": null,
   "metadata": {},
   "outputs": [],
   "source": [
    "import requests\n",
    "response = requests.get('http://www.gold.ac.uk')\n",
    "print(response.text)"
   ]
  },
  {
   "cell_type": "markdown",
   "metadata": {},
   "source": [
    "![alternatvie text](Images/results5.jpg)"
   ]
  },
  {
   "cell_type": "code",
   "execution_count": 3,
   "metadata": {},
   "outputs": [
    {
     "name": "stdout",
     "output_type": "stream",
     "text": [
      "Status Code: 201\n",
      "Response Body: {'name': 'John Doe', 'job': 'Developer', 'id': '696', 'createdAt': '2025-03-03T21:50:38.472Z'}\n"
     ]
    }
   ],
   "source": [
    "import requests\n",
    "\n",
    "url = \"https://reqres.in/api/users\"\n",
    "data = {\n",
    "    \"name\": \"John Doe\",\n",
    "    \"job\": \"Developer\"\n",
    "}\n",
    "\n",
    "response = requests.post(url, json=data)\n",
    "\n",
    "print(f\"Status Code: {response.status_code}\")\n",
    "print(\"Response Body:\", response.json())\n"
   ]
  },
  {
   "cell_type": "markdown",
   "metadata": {},
   "source": [
    "Status Code: 201\n",
    "Response Body: {'name': 'John Doe', 'job': 'Developer', 'id': '556', 'createdAt': '2025-02-27T18:28:49.918Z'}"
   ]
  },
  {
   "cell_type": "code",
   "execution_count": 4,
   "metadata": {},
   "outputs": [
    {
     "name": "stdout",
     "output_type": "stream",
     "text": [
      "Status Code: 200\n",
      "Response Body: {'name': 'John Doe', 'job': 'Senior Developer', 'updatedAt': '2025-03-03T21:50:54.058Z'}\n"
     ]
    }
   ],
   "source": [
    "import requests\n",
    "\n",
    "url = \"https://reqres.in/api/users/2\" \n",
    "data = {\n",
    "    \"name\": \"John Doe\",\n",
    "    \"job\": \"Senior Developer\"\n",
    "}\n",
    "\n",
    "response = requests.put(url, json=data, timeout=10)\n",
    "\n",
    "print(f\"Status Code: {response.status_code}\")\n",
    "print(\"Response Body:\", response.json())\n"
   ]
  },
  {
   "cell_type": "markdown",
   "metadata": {},
   "source": [
    "Status Code: 200\n",
    "Response Body: {'name': 'John Doe', 'job': 'Senior Developer', 'updatedAt': '2025-02-27T18:35:36.785Z'}"
   ]
  },
  {
   "cell_type": "code",
   "execution_count": 5,
   "metadata": {},
   "outputs": [
    {
     "name": "stdout",
     "output_type": "stream",
     "text": [
      "Status Code: 204\n",
      "Resource successfully deleted.\n"
     ]
    }
   ],
   "source": [
    "import requests\n",
    "\n",
    "url = 'https://reqres.in/api/users/2'\n",
    "response = requests.delete(url)\n",
    "print(f\"Status Code: {response.status_code}\")\n",
    "\n",
    "if response.status_code == 204:\n",
    "    print(\"Resource successfully deleted.\")\n",
    "else:\n",
    "    print(\"failed to delete\")"
   ]
  },
  {
   "cell_type": "markdown",
   "metadata": {},
   "source": [
    "Status Code: 204\n",
    "Resource successfully deleted."
   ]
  },
  {
   "cell_type": "markdown",
   "metadata": {},
   "source": [
    "![Alt Text](Images/StatusCodesMeaning.jpg)"
   ]
  }
 ],
 "metadata": {
  "kernelspec": {
   "display_name": "Python 3",
   "language": "python",
   "name": "python3"
  },
  "language_info": {
   "codemirror_mode": {
    "name": "ipython",
    "version": 3
   },
   "file_extension": ".py",
   "mimetype": "text/x-python",
   "name": "python",
   "nbconvert_exporter": "python",
   "pygments_lexer": "ipython3",
   "version": "3.12.9"
  }
 },
 "nbformat": 4,
 "nbformat_minor": 2
}
