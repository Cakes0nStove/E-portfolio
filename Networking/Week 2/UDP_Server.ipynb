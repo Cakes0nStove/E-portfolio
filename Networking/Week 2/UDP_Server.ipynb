{
 "cells": [
  {
   "cell_type": "markdown",
   "metadata": {},
   "source": [
    "EXERCISE 1 "
   ]
  },
  {
   "cell_type": "code",
   "execution_count": null,
   "metadata": {},
   "outputs": [],
   "source": [
    "import socket \n",
    "server_socket = socket.socket(socket.AF_INET, socket.SOCK_DGRAM) \n",
    "server_socket.bind(('localhost', 65433)) \n",
    "\n",
    "clients = set()\n",
    "\n",
    "print(\"UDP Server is ready to receive API data...\") \n",
    "while True: \n",
    "    data, client_address = server_socket.recvfrom(2048) \n",
    "\n",
    "    if client_address not in clients:\n",
    "        clients.add(client_address)\n",
    "    \n",
    "    message = data.decode()\n",
    "    print(f\"Received data from {client_address}: {data.decode()}\") \n",
    "\n",
    "    for client in clients:\n",
    "        if client != client_address:\n",
    "            server_socket.sendto(message.encode(), client)"
   ]
  },
  {
   "cell_type": "markdown",
   "metadata": {},
   "source": [
    "![title](Images/Results_1.png)"
   ]
  },
  {
   "cell_type": "markdown",
   "metadata": {},
   "source": [
    "EXCERCISE 2,3,4- Server side"
   ]
  },
  {
   "cell_type": "code",
   "execution_count": 1,
   "metadata": {},
   "outputs": [
    {
     "name": "stdout",
     "output_type": "stream",
     "text": [
      "running....\n",
      "received message decrypted: 'username1 password1' from ('127.0.0.1', 59255)\n",
      "split credentials ['username1', 'password1']\n",
      "DEBUG: Username: username1, Password: password1\n",
      "received message decrypted: 'hello' from ('127.0.0.1', 59255)\n",
      "new joined host 127.0.0.1\n",
      "read ('127.0.0.1', 59255): hello\n",
      "received message decrypted: 'thank you' from ('127.0.0.1', 59255)\n",
      "read ('127.0.0.1', 59255): thank you\n",
      "client ('127.0.0.1', 59255) disconnected.\n"
     ]
    },
    {
     "ename": "NameError",
     "evalue": "name 'clients' is not defined",
     "output_type": "error",
     "traceback": [
      "\u001b[1;31m---------------------------------------------------------------------------\u001b[0m",
      "\u001b[1;31mNameError\u001b[0m                                 Traceback (most recent call last)",
      "Cell \u001b[1;32mIn[1], line 47\u001b[0m\n\u001b[0;32m     43\u001b[0m     server_socket\u001b[38;5;241m.\u001b[39msendto(response\u001b[38;5;241m.\u001b[39mencode(), client_address)\n\u001b[0;32m     45\u001b[0m     authenticated_clients\u001b[38;5;241m.\u001b[39mpop(client_address, \u001b[38;5;28;01mNone\u001b[39;00m)\n\u001b[1;32m---> 47\u001b[0m     \u001b[43mclients\u001b[49m\u001b[38;5;241m.\u001b[39mdiscard(client_address)\n\u001b[0;32m     48\u001b[0m     \u001b[38;5;28;01mcontinue\u001b[39;00m\n\u001b[0;32m     50\u001b[0m \u001b[38;5;28mprint\u001b[39m(\u001b[38;5;124mf\u001b[39m\u001b[38;5;124m\"\u001b[39m\u001b[38;5;124mreceived message decrypted: \u001b[39m\u001b[38;5;124m'\u001b[39m\u001b[38;5;132;01m{\u001b[39;00mmessage\u001b[38;5;132;01m}\u001b[39;00m\u001b[38;5;124m'\u001b[39m\u001b[38;5;124m from \u001b[39m\u001b[38;5;132;01m{\u001b[39;00mclient_address\u001b[38;5;132;01m}\u001b[39;00m\u001b[38;5;124m\"\u001b[39m) \n",
      "\u001b[1;31mNameError\u001b[0m: name 'clients' is not defined"
     ]
    }
   ],
   "source": [
    "import socket\n",
    "\n",
    "def encrypt(text, shift):\n",
    "    result = \"\"  \n",
    "    for i in range(len(text)):\n",
    "        char = text[i]\n",
    "        if char.isupper():\n",
    "            result += chr((ord(char)+ shift - 65) %26 + 65)\n",
    "        elif char.islower():\n",
    "            result +=chr((ord(char) + shift -97) % 26 +97)\n",
    "        else:\n",
    "            result += char\n",
    "    return result\n",
    "\n",
    "def decrypt(text, shift):\n",
    "    return encrypt(text, - shift)  \n",
    "\n",
    "shift = 4\n",
    "\n",
    "server_socket = socket.socket(socket.AF_INET, socket.SOCK_DGRAM)\n",
    "server_socket.bind(('localhost', 65533))\n",
    "\n",
    "authenticated_clients = {}\n",
    "\n",
    "authenticator = {\n",
    "     \"username1\" : \"password1\"\n",
    "}\n",
    "\n",
    "print(\"running....\")\n",
    "\n",
    "while True:\n",
    "    try:\n",
    "        server_socket.settimeout(1)\n",
    "        data, client_address = server_socket.recvfrom(2048)\n",
    "        message_unencrypted = data.decode().strip()\n",
    "        \n",
    "        message = decrypt(message_unencrypted,shift)\n",
    "\n",
    "        if message.lower() in (\"exit\", \"client left\"):\n",
    "            print(f\"client {client_address} disconnected.\")\n",
    "            response = encrypt(\"byeeeeeeee!\",shift)\n",
    "\n",
    "            server_socket.sendto(response.encode(), client_address)\n",
    "\n",
    "            authenticated_clients.pop(client_address, None)\n",
    "\n",
    "            clients.discard(client_address)\n",
    "            continue\n",
    "\n",
    "        print(f\"received message decrypted: '{message}' from {client_address}\") \n",
    "\n",
    "        if client_address not in authenticated_clients:\n",
    "            credentials = message.split(\" \")\n",
    "            print(f\"split credentials {credentials}\") \n",
    "\n",
    "            if len(credentials) == 2:\n",
    "                username,password = credentials\n",
    "                print(f\"DEBUG: Username: {username}, Password: {password}\")\n",
    "                if username in authenticator and authenticator[username] == password:\n",
    "                    authenticated_clients[client_address] = username\n",
    "                    response = encrypt(\"authentication granted\",shift)\n",
    "                else:\n",
    "                    response = encrypt(\"identity invalid\",shift)\n",
    "            else:\n",
    "                response = encrypt(\"invalid login format\",shift)\n",
    "                \n",
    "            server_socket.sendto(response.encode(), client_address)\n",
    "            continue \n",
    "\n",
    "        ip_address = client_address[0]\n",
    "        if ip_address not in authenticated_clients:\n",
    "            authenticated_clients[ip_address] = client_address\n",
    "            print(f\"new joined host {ip_address}\")\n",
    "\n",
    "        print(f\"read {client_address}: {message}\")\n",
    "\n",
    "        if message == \"thank you\":\n",
    "            response = encrypt(\"No problem ;)\",shift)\n",
    "        elif message == \"hello\":\n",
    "            response = encrypt(\"heyyy\",shift)\n",
    "        elif message == \"ip\":  \n",
    "            response = encrypt(f\"Your IP: {ip_address}\", shift)\n",
    "        elif message == \"clients that are connected\":  \n",
    "            response = encrypt(\"connected clients: {', '.join(client.keys())}\",shift)\n",
    "        \n",
    "        else:\n",
    "            response = encrypt(\"bye\",shift)\n",
    "\n",
    "        server_socket.sendto(response.encode(), client_address)\n",
    "    except socket.timeout:\n",
    "        continue\n",
    "\n",
    "\n",
    "\n"
   ]
  },
  {
   "cell_type": "markdown",
   "metadata": {},
   "source": [
    "![title](Images/Results_4.png)"
   ]
  },
  {
   "cell_type": "markdown",
   "metadata": {},
   "source": [
    "EXERCISE 5 - Server side"
   ]
  },
  {
   "cell_type": "code",
   "execution_count": null,
   "metadata": {},
   "outputs": [
    {
     "name": "stdout",
     "output_type": "stream",
     "text": [
      "UDP Server is running...\n",
      "Received from ('127.0.0.1', 53787): Weather Update:\n",
      " goldsmiths: 5.8°C\n",
      " british library: 5.8°C\n",
      "locations have the same temperature.\n"
     ]
    }
   ],
   "source": [
    "import socket\n",
    "\n",
    "HOST = 'localhost'\n",
    "PORT = 65534\n",
    "\n",
    "server_socket = socket.socket(socket.AF_INET, socket.SOCK_DGRAM)\n",
    "server_socket.bind((HOST, PORT))\n",
    "\n",
    "clients = set()  \n",
    "\n",
    "print(\"UDP Server is running...\")\n",
    "\n",
    "while True:\n",
    "    data, client_address = server_socket.recvfrom(2048)\n",
    "    \n",
    "    message_unencrypted = data.decode().strip()\n",
    "    \n",
    "    if client_address not in clients:\n",
    "        clients.add(client_address)\n",
    "\n",
    "    print(f\"Received from {client_address}: {message_unencrypted}\")\n",
    "\n",
    "    for client in clients:\n",
    "        if client != client_address:\n",
    "            server_socket.sendto(message_unencrypted.encode(), client)\n"
   ]
  },
  {
   "cell_type": "markdown",
   "metadata": {},
   "source": [
    "![title](Images/Results_6.png)"
   ]
  },
  {
   "cell_type": "markdown",
   "metadata": {},
   "source": [
    "EXERCISE 6 - SERVER SIDE"
   ]
  },
  {
   "cell_type": "code",
   "execution_count": null,
   "metadata": {},
   "outputs": [
    {
     "name": "stdout",
     "output_type": "stream",
     "text": [
      "UDP Server is running...\n",
      "Received from ('127.0.0.1', 64776): What do you call cheese by itself? - Provolone.\n"
     ]
    }
   ],
   "source": [
    "import socket\n",
    "\n",
    "HOST = 'localhost'\n",
    "PORT = 65535\n",
    "\n",
    "server_socket = socket.socket(socket.AF_INET, socket.SOCK_DGRAM)\n",
    "server_socket.bind((HOST, PORT))\n",
    "\n",
    "clients = set()  \n",
    "\n",
    "print(\"UDP Server is running...\")\n",
    "\n",
    "while True:\n",
    "    data, client_address = server_socket.recvfrom(2048)\n",
    "    \n",
    "    message_unencrypted = data.decode().strip()\n",
    "    \n",
    "    if client_address not in clients:\n",
    "        clients.add(client_address)\n",
    "\n",
    "    print(f\"Received from {client_address}: {message_unencrypted}\")\n",
    "\n",
    "    for client in clients:\n",
    "        if client != client_address:\n",
    "            server_socket.sendto(message_unencrypted.encode(), client)\n",
    "\n",
    "\n"
   ]
  },
  {
   "cell_type": "markdown",
   "metadata": {},
   "source": [
    "![title](Images/Results_7.png)"
   ]
  }
 ],
 "metadata": {
  "kernelspec": {
   "display_name": "Python 3",
   "language": "python",
   "name": "python3"
  },
  "language_info": {
   "codemirror_mode": {
    "name": "ipython",
    "version": 3
   },
   "file_extension": ".py",
   "mimetype": "text/x-python",
   "name": "python",
   "nbconvert_exporter": "python",
   "pygments_lexer": "ipython3",
   "version": "3.12.9"
  }
 },
 "nbformat": 4,
 "nbformat_minor": 2
}
