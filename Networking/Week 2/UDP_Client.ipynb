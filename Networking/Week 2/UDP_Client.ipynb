{
 "cells": [
  {
   "cell_type": "markdown",
   "metadata": {},
   "source": [
    "EXERCISE 1 - MUST OPEN SAME SCRIPT IN SEPERATE WINDOW "
   ]
  },
  {
   "cell_type": "code",
   "execution_count": null,
   "metadata": {},
   "outputs": [],
   "source": [
    "import socket \n",
    "import threading \n",
    "\n",
    "client_socket = socket.socket(socket.AF_INET, socket.SOCK_DGRAM) \n",
    "server_address = ('localhost', 65433) \n",
    "client_socket.bind(('', 0))\n",
    "\n",
    "username = input(\"Name: \")\n",
    "\n",
    "def recieveMessages():\n",
    "    while True:\n",
    "        try:\n",
    "            data, _ = client_socket.recvfrom(2048)\n",
    "            message = data.decode().strip()\n",
    "            print(f\"{message}\\n\", end=\"\")\n",
    "        except:\n",
    "            break\n",
    "\n",
    "threading.Thread(target=recieveMessages, daemon=True).start()\n",
    "client_socket.sendto(f\"{username} has joined.\".encode(), ('localhost', 65433))\n",
    "\n",
    "while True:\n",
    "    message = input(\"> \")\n",
    "    if message.lower() == \"exit\":\n",
    "        break\n",
    "    full_message = f\"{username}: {message}\"\n",
    "    client_socket.sendto(full_message.encode(), ('localhost', 65433))\n",
    "\n",
    "client_socket.close()"
   ]
  },
  {
   "cell_type": "markdown",
   "metadata": {},
   "source": [
    "![title](Images/Results_2.png)"
   ]
  },
  {
   "cell_type": "markdown",
   "metadata": {},
   "source": [
    "![title](Images/Results_3.png)"
   ]
  },
  {
   "cell_type": "markdown",
   "metadata": {},
   "source": [
    "EXCERCISE 2,3,4 - CLIENT SIDE"
   ]
  },
  {
   "cell_type": "code",
   "execution_count": 7,
   "metadata": {},
   "outputs": [
    {
     "name": "stdout",
     "output_type": "stream",
     "text": [
      "Sending credentials 'username1 password1'\n",
      "Server: authentication granted\n",
      "type exit to leave\n",
      "Server says: heyyy\n",
      "Server says: No problem ;)\n",
      "Server says: byeeeeeeee!\n"
     ]
    }
   ],
   "source": [
    "import socket\n",
    "\n",
    "\n",
    "def caesarCipher(text, shift):\n",
    "    result = \"\"\n",
    "    for i in range(len(text)):\n",
    "        char = text[i]\n",
    "        if char.isupper():\n",
    "            result += chr((ord(char) + shift - 65) % 26 + 65)\n",
    "        elif char.islower():\n",
    "            result += chr((ord(char) + shift - 97) % 26 + 97)\n",
    "        else:\n",
    "            result +=char\n",
    "\n",
    "    return result\n",
    "\n",
    "def decrypt(text, shift):\n",
    "    return caesarCipher(text, -shift)\n",
    "\n",
    "shift = 4\n",
    "\n",
    "client_socket = socket.socket(socket.AF_INET, socket.SOCK_DGRAM)\n",
    "server_address = ('localhost', 65533)\n",
    "\n",
    "username = input(\"username: \").strip()\n",
    "password = input(\"password: \").strip()\n",
    "credentials = f\"{username} {password}\"\n",
    "print(f\"Sending credentials '{credentials}'\")\n",
    "\n",
    "client_socket.sendto(caesarCipher(credentials, shift).encode(), server_address)\n",
    "\n",
    "data, client_address =  client_socket.recvfrom(2048)\n",
    "response = decrypt(data.decode(), shift)\n",
    "print(f\"Server: {response}\")\n",
    "\n",
    "if \"failed\" in response.lower():\n",
    "    print(\"authentication failed. leaving...\")\n",
    "    client_socket.close()\n",
    "    exit()\n",
    "\n",
    "print(\"type exit to leave\")\n",
    "\n",
    "\n",
    "while True:\n",
    "    message = input(\"you: \") \n",
    "\n",
    "    if message.lower() == \"exit\":\n",
    "\n",
    "        client_socket.sendto(caesarCipher(\"client left\",shift).encode(), server_address)\n",
    "        data, client_address = client_socket.recvfrom(2048)\n",
    "        print(f\"Server says: {decrypt(data.decode(), shift)}\")\n",
    "        client_socket.close()\n",
    "\n",
    "        break\n",
    "\n",
    "    client_socket.sendto(caesarCipher(message, shift).encode(), server_address)\n",
    "\n",
    "    data, client_address =  client_socket.recvfrom(2048)\n",
    "    print(f\"Server says: {decrypt(data.decode(),shift)}\")\n",
    "\n",
    "client_socket.close()\n",
    "\n"
   ]
  },
  {
   "cell_type": "markdown",
   "metadata": {},
   "source": [
    "![title](Images/Results_5.png)"
   ]
  },
  {
   "cell_type": "markdown",
   "metadata": {},
   "source": [
    "EXERCISE 5 - client side"
   ]
  },
  {
   "cell_type": "code",
   "execution_count": 8,
   "metadata": {},
   "outputs": [],
   "source": [
    "import socket\n",
    "import requests\n",
    "\n",
    "api_url_university = \"https://api.open-meteo.com/v1/forecast?latitude=51.4746&longitude=-0.0355&current_weather=true\"\n",
    "api_url_library = \"https://api.open-meteo.com/v1/forecast?latitude=51.5299&longitude=-0.1275&current_weather=true\"\n",
    "\n",
    "def fetch_temperature(api_url):\n",
    "    response = requests.get(api_url)\n",
    "    if response.status_code == 200:\n",
    "        weather_data = response.json()\n",
    "        return weather_data[\"current_weather\"][\"temperature\"]\n",
    "    else:\n",
    "        return None \n",
    "\n",
    "temperature_university = fetch_temperature(api_url_university)\n",
    "temperature_library = fetch_temperature(api_url_library)\n",
    "\n",
    "if temperature_university is not None and temperature_library is not None:\n",
    "    if temperature_university > temperature_library:\n",
    "        comparison = \"The goldsmiths is warmer than the british library.\"\n",
    "    elif temperature_university < temperature_library:\n",
    "        comparison = \"The british library is warmer than the university.\"\n",
    "    else:\n",
    "        comparison = \"locations have the same temperature.\"\n",
    "\n",
    "    message = f\"Weather Update:\\n goldsmiths: {temperature_university}°C\\n british library: {temperature_library}°C\\n{comparison}\"\n",
    "else:\n",
    "    message = \"failed to get weather\"\n",
    "\n",
    "client_socket = socket.socket(socket.AF_INET, socket.SOCK_DGRAM)\n",
    "server_address = ('localhost', 65534) \n",
    "\n",
    "client_socket.sendto(message.encode(), server_address)  \n",
    "\n",
    "client_socket.close()\n"
   ]
  },
  {
   "cell_type": "markdown",
   "metadata": {},
   "source": [
    "EXERCISE 6 - CLIENT SIDE"
   ]
  },
  {
   "cell_type": "code",
   "execution_count": 9,
   "metadata": {},
   "outputs": [],
   "source": [
    "import socket\n",
    "import requests\n",
    "\n",
    "api_url_joke = \"https://official-joke-api.appspot.com/random_joke\"\n",
    "\n",
    "def fetch_joke(api_url):\n",
    "    response = requests.get(api_url)\n",
    "    if response.status_code == 200:\n",
    "        joke_data = response.json()\n",
    "        return f\"{joke_data['setup']} - {joke_data['punchline']}\"\n",
    "    else:\n",
    "        return \"failed to get the joke lol \"\n",
    "\n",
    "joke = fetch_joke(api_url_joke)\n",
    "\n",
    "client_socket = socket.socket(socket.AF_INET, socket.SOCK_DGRAM)\n",
    "server_address = ('localhost', 65535) \n",
    "\n",
    "client_socket.sendto(joke.encode(), server_address)\n",
    "\n",
    "client_socket.close()\n"
   ]
  }
 ],
 "metadata": {
  "kernelspec": {
   "display_name": "Python 3",
   "language": "python",
   "name": "python3"
  },
  "language_info": {
   "codemirror_mode": {
    "name": "ipython",
    "version": 3
   },
   "file_extension": ".py",
   "mimetype": "text/x-python",
   "name": "python",
   "nbconvert_exporter": "python",
   "pygments_lexer": "ipython3",
   "version": "3.12.9"
  }
 },
 "nbformat": 4,
 "nbformat_minor": 2
}
