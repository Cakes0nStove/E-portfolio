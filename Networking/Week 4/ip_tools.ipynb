{
 "cells": [
  {
   "cell_type": "code",
   "execution_count": null,
   "metadata": {},
   "outputs": [
    {
     "name": "stdout",
     "output_type": "stream",
     "text": [
      "Address: 192.168.1.1\n",
      "Network: 192.168.1.1/32\n",
      "Netmask: 255.255.255.255\n",
      "Is private: True\n",
      "Is global: False\n",
      "Broadcast address is : 192.168.1.1\n",
      "First Host: 192.168.1.1\n",
      "last Host 192.168.1.1\n",
      "Usable Hosts: 0\n",
      "\n",
      "Hosts in network:\n",
      "192.168.1.1\n",
      "Address: 192.168.1.1\n",
      "Network: 192.168.1.0/24\n",
      "Netmask: 255.255.255.0\n",
      "Is private: True\n",
      "Is global: False\n",
      "Broadcast address is : 192.168.1.255\n",
      "First Host: 192.168.1.1\n",
      "last Host 192.168.1.254\n",
      "Usable Hosts: 254\n",
      "Address: 10.0.0.2\n",
      "Network: 10.0.0.2/32\n",
      "Netmask: 255.255.255.255\n",
      "Is private: True\n",
      "Is global: False\n",
      "Broadcast address is : 10.0.0.2\n",
      "First Host: 10.0.0.2\n",
      "last Host 10.0.0.2\n",
      "Usable Hosts: 0\n",
      "\n",
      "Hosts in network:\n",
      "10.0.0.2\n"
     ]
    }
   ],
   "source": [
    "#EXERCISE 1\n",
    "import ipaddress \n",
    " \n",
    "def analyse_ip(ip_str): \n",
    "    ip = ipaddress.ip_interface(ip_str) \n",
    "    network = ip.network\n",
    "     \n",
    "    print(f\"Address: {ip.ip}\") \n",
    "    print(f\"Network: {ip.network}\") \n",
    "    print(f\"Netmask: {network.netmask}\") \n",
    "    print(f\"Is private: {ip.ip.is_private}\") \n",
    "    print(f\"Is global: {ip.ip.is_global}\") \n",
    "    print(f\"Broadcast address is : {network.broadcast_address}\")\n",
    "\n",
    "\n",
    "    list_ofhosts= list(network.hosts())\n",
    "    print (f\"First Host: {list_ofhosts[0]}\")\n",
    "    print (f\"last Host {list_ofhosts[-1]}\")\n",
    "\n",
    "    usable_hosts = max(network.num_addresses -2,0)\n",
    "    print(f\"Usable Hosts: {usable_hosts}\")\n",
    "\n",
    "    if ip.network.num_addresses < 256:  \n",
    "        print(\"\\nHosts in network:\") \n",
    "        for host in ip.network.hosts(): \n",
    "            print(host) \n",
    " \n",
    "analyse_ip('192.168.1.1') \n",
    "analyse_ip('192.168.1.1/24')\n",
    "\n",
    "analyse_ip(\"10.0.0.2\")"
   ]
  },
  {
   "cell_type": "code",
   "execution_count": 27,
   "metadata": {},
   "outputs": [
    {
     "name": "stdout",
     "output_type": "stream",
     "text": [
      "Your Computer Name is:TITTY-MUNCHER-2000\n",
      "Your Computer IP Address is:10.0.0.2\n"
     ]
    }
   ],
   "source": [
    "import socket \n",
    "hostname = socket.gethostname() \n",
    "IPAddr = socket.gethostbyname(hostname) \n",
    " \n",
    "print(\"Your Computer Name is:\" + hostname)\n",
    "print(\"Your Computer IP Address is:\" + IPAddr)"
   ]
  },
  {
   "cell_type": "code",
   "execution_count": null,
   "metadata": {},
   "outputs": [
    {
     "name": "stdout",
     "output_type": "stream",
     "text": [
      "Address: 10.0.0.2\n",
      "Network: 10.0.0.2/32\n",
      "Netmask: 255.255.255.255\n",
      "Is private: True\n",
      "Is global: False\n",
      "Broadcast address is : 10.0.0.2\n",
      "First Host: 10.0.0.2\n",
      "last Host 10.0.0.2\n",
      "Usable Hosts: 0\n",
      "\n",
      "Hosts in network:\n",
      "10.0.0.2\n"
     ]
    }
   ],
   "source": [
    "import ipaddress \n",
    " \n",
    "def analyse_ip(ip_str): \n",
    "    ip = ipaddress.ip_interface(ip_str) \n",
    "    network = ip.network\n",
    "     \n",
    "    print(f\"Address: {ip.ip}\") \n",
    "    print(f\"Network: {ip.network}\") \n",
    "    print(f\"Netmask: {network.netmask}\") \n",
    "    print(f\"Is private: {ip.ip.is_private}\") \n",
    "    print(f\"Is global: {ip.ip.is_global}\") \n",
    "    print(f\"Broadcast address is : {network.broadcast_address}\")\n",
    "\n",
    "\n",
    "    list_ofhosts= list(network.hosts())\n",
    "    print (f\"First Host: {list_ofhosts[0]}\")\n",
    "    print (f\"last Host {list_ofhosts[-1]}\")\n",
    "\n",
    "    usable_hosts = max(network.num_addresses -2,0)\n",
    "    print(f\"Usable Hosts: {usable_hosts}\")\n",
    "\n",
    "    if ip.network.num_addresses < 256: \n",
    "        print(\"\\nHosts in network:\") \n",
    "        for host in ip.network.hosts(): \n",
    "            print(host) \n",
    " \n",
    "analyse_ip(\"10.0.0.2\")"
   ]
  },
  {
   "cell_type": "code",
   "execution_count": null,
   "metadata": {},
   "outputs": [
    {
     "name": "stdout",
     "output_type": "stream",
     "text": [
      "Address: 159.100.136.66\n",
      "Network: 159.100.136.66/32\n",
      "Netmask: 255.255.255.255\n",
      "Is private: False\n",
      "Is global: True\n",
      "Broadcast address is : 159.100.136.66\n",
      "First Host: 159.100.136.66\n",
      "last Host 159.100.136.66\n",
      "Usable Hosts: 0\n",
      "\n",
      "Hosts in network:\n",
      "159.100.136.66\n"
     ]
    }
   ],
   "source": [
    "# EXERCISE 3\n",
    "\n",
    "import ipaddress \n",
    " \n",
    "def analyse_ip(ip_str): \n",
    "    ip = ipaddress.ip_interface(ip_str) \n",
    "    network = ip.network\n",
    "     \n",
    "    print(f\"Address: {ip.ip}\") \n",
    "    print(f\"Network: {ip.network}\") \n",
    "    print(f\"Netmask: {network.netmask}\") \n",
    "    print(f\"Is private: {ip.ip.is_private}\") \n",
    "    print(f\"Is global: {ip.ip.is_global}\") \n",
    "    print(f\"Broadcast address is : {network.broadcast_address}\")\n",
    "\n",
    "\n",
    "    list_ofhosts= list(network.hosts())\n",
    "    print (f\"First Host: {list_ofhosts[0]}\")\n",
    "    print (f\"last Host {list_ofhosts[-1]}\")\n",
    "\n",
    "    usable_hosts = max(network.num_addresses -2,0)\n",
    "    print(f\"Usable Hosts: {usable_hosts}\")\n",
    "\n",
    "    if ip.network.num_addresses < 256: \n",
    "        print(\"\\nHosts in network:\") \n",
    "        for host in ip.network.hosts(): \n",
    "            print(host) \n",
    " \n",
    "analyse_ip(\"159.100.136.66\")"
   ]
  },
  {
   "cell_type": "code",
   "execution_count": 6,
   "metadata": {},
   "outputs": [
    {
     "name": "stdout",
     "output_type": "stream",
     "text": [
      "\n",
      "Engineering Department:\n",
      "  - Subnet: 172.16.0.0/27\n",
      "  - Netmask: 255.255.255.224\n",
      "\n",
      "Marketing Department:\n",
      "  - Subnet: 172.16.0.32/27\n",
      "  - Netmask: 255.255.255.224\n",
      "\n",
      "Finance Department:\n",
      "  - Subnet: 172.16.0.64/28\n",
      "  - Netmask: 255.255.255.240\n",
      "\n",
      "HR Department:\n",
      "  - Subnet: 172.16.0.80/29\n",
      "  - Netmask: 255.255.255.248\n"
     ]
    }
   ],
   "source": [
    "import ipaddress \n",
    "\n",
    "base = ipaddress.ip_network(\"172.16.0.0/16\")\n",
    "\n",
    "departments = {\n",
    "    \"Engineering\": 30,\n",
    "    \"Marketing\": 15,\n",
    "    \"Finance\": 10,\n",
    "    \"HR\": 5\n",
    "}\n",
    "\n",
    "def smallest_subnet(host_required):\n",
    "    power = 0\n",
    "    while (2 ** power) - 2 < host_required: \n",
    "        power += 1\n",
    "    return 32 - power \n",
    "\n",
    "given_subnets = {}\n",
    "auto_subnet = base  \n",
    "\n",
    "for dept, hosts in departments.items():\n",
    "    subnet_size = smallest_subnet(hosts)  \n",
    "    if auto_subnet is None:\n",
    "        print(f\"Error: No available subnet for {dept}\")\n",
    "        continue\n",
    "\n",
    "    given_subnets[dept] = ipaddress.ip_network(f\"{auto_subnet.network_address}/{subnet_size}\", strict=False)\n",
    "    next_address = given_subnets[dept].broadcast_address + 1  \n",
    "    auto_subnet = ipaddress.ip_network(f\"{next_address}/{subnet_size}\", strict=False)\n",
    "\n",
    "for dept, subnet in given_subnets.items():\n",
    "    print(f\"\\n{dept} Department:\")\n",
    "    print(f\"  - Subnet: {subnet}\")\n",
    "    print(f\"  - Netmask: {subnet.netmask}\")\n",
    "\n",
    "\n"
   ]
  }
 ],
 "metadata": {
  "kernelspec": {
   "display_name": "Python 3",
   "language": "python",
   "name": "python3"
  },
  "language_info": {
   "codemirror_mode": {
    "name": "ipython",
    "version": 3
   },
   "file_extension": ".py",
   "mimetype": "text/x-python",
   "name": "python",
   "nbconvert_exporter": "python",
   "pygments_lexer": "ipython3",
   "version": "3.12.9"
  }
 },
 "nbformat": 4,
 "nbformat_minor": 2
}
