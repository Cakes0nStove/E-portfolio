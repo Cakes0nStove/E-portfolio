{
 "cells": [
  {
   "cell_type": "code",
   "execution_count": 8,
   "metadata": {},
   "outputs": [
    {
     "name": "stdout",
     "output_type": "stream",
     "text": [
      "\n",
      "Sending DHCP DISCOVER\n",
      "Received OFFER: 192.168.1.102\n",
      "Sending DHCP REQUEST\n",
      " IP 192.168.1.102 successful\n"
     ]
    }
   ],
   "source": [
    "import socket\n",
    "import json\n",
    "\n",
    "client = {\n",
    "    \"mac\": \"AA:BB:CC:DD:EE:FF\",\n",
    "    \"ip\": None\n",
    "}\n",
    "\n",
    "def main():\n",
    "    \"\"\"Client requests an IP from DHCP Server.\"\"\"\n",
    "    server_ip = \"127.0.0.1\" \n",
    "    server_port = 6000\n",
    "\n",
    "    client_socket = socket.socket(socket.AF_INET, socket.SOCK_STREAM)\n",
    "    client_socket.connect((server_ip, server_port))\n",
    "\n",
    "    discover_msg = json.dumps({\"type\": \"DISCOVER\", \n",
    "                               \"mac\": client[\"mac\"]})\n",
    "    \n",
    "    print(\"\\nSending DHCP DISCOVER\")\n",
    "\n",
    "    client_socket.send(discover_msg.encode())\n",
    "\n",
    "    offer_data = client_socket.recv(1024).decode()\n",
    "    offer = json.loads(offer_data)\n",
    "    \n",
    "    if offer[\"type\"] == \"NAK\":\n",
    "        print(\"No available ip  \")\n",
    "        return\n",
    "\n",
    "    print(f\"Received OFFER: {offer['ip']}\")\n",
    "\n",
    "    request_msg = json.dumps({\"type\": \"REQUEST\",\n",
    "                               \"mac\": client[\"mac\"], \n",
    "                               \"ip\": offer[\"ip\"]})\n",
    "    \n",
    "    print(\"Sending DHCP REQUEST\")\n",
    "    client_socket.send(request_msg.encode())\n",
    "\n",
    "    ack_data = client_socket.recv(1024).decode()\n",
    "    ack = json.loads(ack_data)\n",
    "    \n",
    "    if ack[\"type\"] == \"ACK\":\n",
    "        client[\"ip\"] = ack[\"ip\"]\n",
    "        print(f\" IP {client['ip']} successful\")\n",
    "\n",
    "    client_socket.close()\n",
    "\n",
    "if __name__ == \"__main__\":\n",
    "    main()\n",
    "\n"
   ]
  }
 ],
 "metadata": {
  "kernelspec": {
   "display_name": "Python 3",
   "language": "python",
   "name": "python3"
  },
  "language_info": {
   "codemirror_mode": {
    "name": "ipython",
    "version": 3
   },
   "file_extension": ".py",
   "mimetype": "text/x-python",
   "name": "python",
   "nbconvert_exporter": "python",
   "pygments_lexer": "ipython3",
   "version": "3.12.9"
  }
 },
 "nbformat": 4,
 "nbformat_minor": 2
}
