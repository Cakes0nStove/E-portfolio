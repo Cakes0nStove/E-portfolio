{
 "cells": [
  {
   "cell_type": "code",
   "execution_count": null,
   "metadata": {},
   "outputs": [],
   "source": [
    "import socket\n",
    "def get_ip_address(website_url):\n",
    "    try:\n",
    "        ip_address = socket.gethostbyname(website_url)\n",
    "        print(f\"The IP address of {website_url} is {ip_address}\")\n",
    "    except socket.gaierror:\n",
    "        print(f\"Unable to get the IP address for {website_url}\")\n",
    "# Example usage\n",
    "website = input(\"Enter the website URL (without 'https://'): \")\n",
    "get_ip_address(website)"
   ]
  },
  {
   "cell_type": "markdown",
   "metadata": {},
   "source": [
    "![title](Images/Week1a.jpg)"
   ]
  },
  {
   "cell_type": "markdown",
   "metadata": {},
   "source": [
    "1) The IP address of www.gold.ac.uk is 159.100.136.66\n",
    "2) The IP address of www.google.com is 172.217.16.228\n",
    "3) The IP address of www.youtube.com is 142.250.187.238"
   ]
  },
  {
   "cell_type": "code",
   "execution_count": null,
   "metadata": {},
   "outputs": [],
   "source": [
    "import subprocess\n",
    "def tracert(domain):\n",
    "    try:\n",
    "        result = subprocess.run([\"tracert\", domain], capture_output=True, text=True)\n",
    "        print(result.stdout)\n",
    "    except FileNotFoundError:\n",
    "        print(\"tracert command not found. Make sure it's available.\")\n",
    "    except Exception as e: # Catching general exceptions for now\n",
    "        print(f\"An error occurred: {e}\")\n",
    "domain = input(\"Enter the website or IP address: \")\n",
    "tracert(domain)"
   ]
  },
  {
   "cell_type": "code",
   "execution_count": null,
   "metadata": {},
   "outputs": [],
   "source": [
    "import socket\n",
    "\n",
    "client_socket = socket.socket(socket.AF_INET, socket.SOCK_STREAM)\n",
    "\n",
    "server_address = ('www.gold.ac.uk', 80)\n",
    "\n",
    "client_socket.connect(server_address)\n",
    "\n",
    "request = \"GET / HTTP/1.1\\r\\nHost: www.gold.ac.uk\\r\\n\\r\\n\"\n",
    "client_socket.send(request.encode())\n",
    "\n",
    "response = client_socket.recv(4096)\n",
    "print(response.decode())\n",
    "\n",
    "client_socket.close()"
   ]
  },
  {
   "cell_type": "code",
   "execution_count": null,
   "metadata": {},
   "outputs": [],
   "source": [
    "import requests\n",
    "response = requests.get('http://www.gold.ac.uk')\n",
    "print(response.text)"
   ]
  },
  {
   "cell_type": "code",
   "execution_count": null,
   "metadata": {},
   "outputs": [],
   "source": [
    "import requests\n",
    "\n",
    "url = \"https://reqres.in/api/users\"\n",
    "data = {\n",
    "    \"name\": \"John Doe\",\n",
    "    \"job\": \"Developer\"\n",
    "}\n",
    "\n",
    "response = requests.post(url, json=data)\n",
    "\n",
    "print(f\"Status Code: {response.status_code}\")\n",
    "print(\"Response Body:\", response.json())"
   ]
  },
  {
   "cell_type": "code",
   "execution_count": null,
   "metadata": {},
   "outputs": [],
   "source": [
    "import requests\n",
    "\n",
    "url = \"https://reqres.in/api/users/2\" \n",
    "data = {\n",
    "    \"name\": \"John Doe\",\n",
    "    \"job\": \"Senior Developer\"\n",
    "}\n",
    "\n",
    "response = requests.put(url, json=data, timeout=10)\n",
    "\n",
    "print(f\"Status Code: {response.status_code}\")\n",
    "print(\"Response Body:\", response.json())"
   ]
  },
  {
   "cell_type": "code",
   "execution_count": null,
   "metadata": {},
   "outputs": [],
   "source": [
    "import requests\n",
    "\n",
    "url = 'https://reqres.in/api/users/2'\n",
    "response = requests.delete(url)\n",
    "print(f\"Status Code: {response.status_code}\")\n",
    "\n",
    "if response.status_code == 204:\n",
    "    print(\"Resource successfully deleted.\")\n",
    "else:\n",
    "    print(\"failed to delete\")"
   ]
  },
  {
   "cell_type": "code",
   "execution_count": null,
   "metadata": {},
   "outputs": [],
   "source": []
  }
 ],
 "metadata": {
  "kernelspec": {
   "display_name": "Python 3",
   "language": "python",
   "name": "python3"
  },
  "language_info": {
   "name": "python",
   "version": "3.12.9"
  }
 },
 "nbformat": 4,
 "nbformat_minor": 2
}
